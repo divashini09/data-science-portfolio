{
 "cells": [
  {
   "cell_type": "markdown",
   "id": "b4d6d6ac-cbe4-4e0b-93c2-18f4d051eaa8",
   "metadata": {},
   "source": [
    "## 911 Call Data Analysis Project\n",
    "\n",
    "In this project, we will conduct an analysis of the 911 call dataset available on Kaggle. The dataset includes the following fields:\n",
    "\n",
    "- lat: Latitude (string)\n",
    "- lng: Longitude (string)\n",
    "- desc: Description of the emergency call (string)\n",
    "- zip: Zip code (string)\n",
    "- title: Title of the call (string)\n",
    "- timeStamp: Timestamp in the format YYYY-MM-DD HH:MM\n",
    "(string)\n",
    "- twp: Township (string)\n",
    "- addr: Address (string)\n",
    "- e: Dummy variable (always set to 1)\n",
    "\n",
    "To begin, we will import the necessary libraries for data analysis and visualization."
   ]
  },
  {
   "cell_type": "code",
   "execution_count": 1,
   "id": "386235ed-ffdb-4fc2-946e-15540a532877",
   "metadata": {},
   "outputs": [
    {
     "ename": "ModuleNotFoundError",
     "evalue": "No module named 'numpy'",
     "output_type": "error",
     "traceback": [
      "\u001b[0;31m---------------------------------------------------------------------------\u001b[0m",
      "\u001b[0;31mModuleNotFoundError\u001b[0m                       Traceback (most recent call last)",
      "Cell \u001b[0;32mIn[1], line 1\u001b[0m\n\u001b[0;32m----> 1\u001b[0m \u001b[38;5;28;01mimport\u001b[39;00m \u001b[38;5;21;01mnumpy\u001b[39;00m \u001b[38;5;28;01mas\u001b[39;00m \u001b[38;5;21;01mnp\u001b[39;00m\n\u001b[1;32m      2\u001b[0m \u001b[38;5;28;01mimport\u001b[39;00m \u001b[38;5;21;01mpandas\u001b[39;00m \u001b[38;5;28;01mas\u001b[39;00m \u001b[38;5;21;01mpd\u001b[39;00m\n\u001b[1;32m      3\u001b[0m \u001b[38;5;28;01mimport\u001b[39;00m \u001b[38;5;21;01mmatplotlib\u001b[39;00m\u001b[38;5;21;01m.\u001b[39;00m\u001b[38;5;21;01mpyplot\u001b[39;00m \u001b[38;5;28;01mas\u001b[39;00m \u001b[38;5;21;01mplt\u001b[39;00m\n",
      "\u001b[0;31mModuleNotFoundError\u001b[0m: No module named 'numpy'"
     ]
    }
   ],
   "source": [
    "import numpy as np\n",
    "import pandas as pd\n",
    "import matplotlib.pyplot as plt\n",
    "import seaborn as sns\n",
    "%matplotlib inline\n",
    "\n",
    "sns.set_style('whitegrid')\n",
    "\n",
    "plt.rcParams['figure.figsize'] = (6, 4)"
   ]
  },
  {
   "cell_type": "code",
   "execution_count": null,
   "id": "f40306eb-2c12-4eff-bff5-0e9c8586b75a",
   "metadata": {},
   "outputs": [],
   "source": [
    "#Reading the data\n",
    "df = pd.read_csv('911.csv')"
   ]
  },
  {
   "cell_type": "code",
   "execution_count": null,
   "id": "46fcc8d5-ce5f-4600-8ca9-6c773166f1d0",
   "metadata": {},
   "outputs": [],
   "source": [
    "df.info()"
   ]
  },
  {
   "cell_type": "code",
   "execution_count": null,
   "id": "a518f0fa-ae10-4fa4-9435-43a68a0fa3a7",
   "metadata": {},
   "outputs": [],
   "source": [
    "#Checking the head of the dataframe\n",
    "df.head()"
   ]
  },
  {
   "cell_type": "markdown",
   "id": "452ed579-81c1-4e19-b636-7fe5e4d4db8e",
   "metadata": {},
   "source": [
    "### Preliminary Analysis\n",
    "\n",
    "Let's identify the top 5 zip codes with the highest number of 911 calls."
   ]
  },
  {
   "cell_type": "code",
   "execution_count": null,
   "id": "0af5345f-b4a9-4960-a65e-c1189904dd6d",
   "metadata": {},
   "outputs": [],
   "source": [
    "df['zip'].value_counts().head(5)"
   ]
  },
  {
   "cell_type": "markdown",
   "id": "fb4692cd-99e9-462e-bd8b-8fb17b99fcd0",
   "metadata": {},
   "source": [
    "The top township for the calls are as follows:"
   ]
  },
  {
   "cell_type": "code",
   "execution_count": null,
   "id": "9f1c2190-836e-46af-9198-feb8621a93eb",
   "metadata": {},
   "outputs": [],
   "source": [
    "df['twp'].value_counts().head(5)"
   ]
  },
  {
   "cell_type": "markdown",
   "id": "85895b08-03db-47a7-9bfd-afda58421444",
   "metadata": {},
   "source": [
    "For 600k + entries, how many unique call titles did we have?"
   ]
  },
  {
   "cell_type": "code",
   "execution_count": null,
   "id": "47b3cfd2-ec42-414b-9394-5a26626b0646",
   "metadata": {},
   "outputs": [],
   "source": [
    "df['title'].nunique()"
   ]
  },
  {
   "cell_type": "markdown",
   "id": "b677fa68-3479-41b5-8925-dba64e4c7326",
   "metadata": {},
   "source": [
    "### Feature Engineering for Analysis\n",
    "\n",
    "To enhance our analysis, we can derive new features from the existing columns in the dataset.\n",
    "\n",
    "- The title column contains a 'subcategory' or 'reason for call' indicated by the text preceding the colon.\n",
    "\n",
    "- The timestamp column can be broken down further into Year, Month, and Day of the Week.\n",
    "\n",
    "We'll begin by creating a 'Reason' feature for each call."
   ]
  },
  {
   "cell_type": "code",
   "execution_count": null,
   "id": "5f076ca5-41f5-4aad-91e5-56ce495188d9",
   "metadata": {},
   "outputs": [],
   "source": [
    "df['Reason'] = df['title'].apply(lambda x: x.split(':')[0])"
   ]
  },
  {
   "cell_type": "code",
   "execution_count": null,
   "id": "164ad457-c0a2-4591-83e4-aaaa9b491611",
   "metadata": {},
   "outputs": [],
   "source": [
    "df.tail()"
   ]
  },
  {
   "cell_type": "markdown",
   "id": "19f6977d-9662-44ab-a7c6-11f8e7d133af",
   "metadata": {},
   "source": [
    "Next, let's identify the most frequent reason for 911 calls in our dataset."
   ]
  },
  {
   "cell_type": "code",
   "execution_count": null,
   "id": "4da16ee0-b494-4dd4-b24a-8e697493e4dc",
   "metadata": {},
   "outputs": [],
   "source": [
    "df['Reason'].value_counts()"
   ]
  },
  {
   "cell_type": "code",
   "execution_count": null,
   "id": "e1094aee-f5c4-4eef-920e-56711e5a9f89",
   "metadata": {},
   "outputs": [],
   "source": [
    "sns.countplot(df['Reason'])"
   ]
  },
  {
   "cell_type": "markdown",
   "id": "9ae63212-70ef-4480-abcc-c9a1389bbbfd",
   "metadata": {},
   "source": [
    "Let's examine the data type of the timestamp column to better understand how we can work with the time information it contains."
   ]
  },
  {
   "cell_type": "code",
   "execution_count": null,
   "id": "2c304c3d-a91f-4b5b-be3c-d1b63d9a6e7f",
   "metadata": {},
   "outputs": [],
   "source": [
    "type(df['timeStamp'][0])"
   ]
  },
  {
   "cell_type": "markdown",
   "id": "ef781868-ec44-4333-9728-1128a2dfa6a5",
   "metadata": {},
   "source": [
    "Since the timestamp column is currently in string format, converting it to a Python DateTime object will simplify extracting the year, month, and day details. This conversion will make further time-based analysis more straightforward and efficient."
   ]
  },
  {
   "cell_type": "code",
   "execution_count": null,
   "id": "cc0e17f2-bc6c-48d7-b7f4-841a11354f17",
   "metadata": {},
   "outputs": [],
   "source": [
    "df['timeStamp'] = pd.to_datetime(df['timeStamp'])"
   ]
  },
  {
   "cell_type": "markdown",
   "id": "215fb1e6-28f9-40a2-bf0f-0b8b71fbae18",
   "metadata": {},
   "source": [
    "For an individual DateTime object, we can retrieve information in the following way."
   ]
  },
  {
   "cell_type": "code",
   "execution_count": null,
   "id": "c2887c67-c063-4cfa-8364-20c66f21329c",
   "metadata": {},
   "outputs": [],
   "source": [
    "time = df['timeStamp'].iloc[0]\n",
    "\n",
    "print('Hour:',time.hour)\n",
    "print('Month:',time.month)\n",
    "print('Day of Week:',time.dayofweek)"
   ]
  },
  {
   "cell_type": "markdown",
   "id": "6afe57a8-8ee3-4e0e-9afa-f3f584dd9efb",
   "metadata": {},
   "source": [
    "Let's generate new features based on the information mentioned above."
   ]
  },
  {
   "cell_type": "code",
   "execution_count": null,
   "id": "d2b4db36-775d-4e1e-9c3d-a0d15240e849",
   "metadata": {},
   "outputs": [],
   "source": [
    "df['Hour'] = df['timeStamp'].apply(lambda x: x.hour)\n",
    "df['Month'] = df['timeStamp'].apply(lambda x: x.month)\n",
    "df['Day of Week'] = df['timeStamp'].apply(lambda x: x.dayofweek)"
   ]
  },
  {
   "cell_type": "code",
   "execution_count": null,
   "id": "0b4a2eaf-6e25-4963-9c6d-24a115889369",
   "metadata": {},
   "outputs": [],
   "source": [
    "df.head(3)"
   ]
  },
  {
   "cell_type": "markdown",
   "id": "00349fa6-2ea1-444c-a697-9613aeb69d11",
   "metadata": {},
   "source": [
    "The Day of the Week is represented as an integer, which may not immediately indicate which number corresponds to which day. We can create a mapping to convert that into a string format ranging from Monday to Sunday."
   ]
  },
  {
   "cell_type": "code",
   "execution_count": null,
   "id": "957b7a2f-045f-402e-b397-7f068edb669c",
   "metadata": {},
   "outputs": [],
   "source": [
    "dmap = {0:'Mon',1:'Tue',2:'Wed',3:'Thu',4:'Fri',5:'Sat',6:'Sun'}"
   ]
  },
  {
   "cell_type": "code",
   "execution_count": null,
   "id": "932b99c6-59fc-42fb-b9b4-f06d6d519ef8",
   "metadata": {},
   "outputs": [],
   "source": [
    "df['Day of Week'] = df['Day of Week'].map(dmap)\n",
    "\n",
    "df.tail(3)"
   ]
  },
  {
   "cell_type": "markdown",
   "id": "755881b4-ed23-44b3-ac1a-76795134f64e",
   "metadata": {},
   "source": [
    "Let’s merge the newly generated features to examine the most frequent call reasons categorized by the day of the week."
   ]
  },
  {
   "cell_type": "code",
   "execution_count": null,
   "id": "3e29a2f2-73e4-4bde-9c21-b42c13cc3445",
   "metadata": {},
   "outputs": [],
   "source": [
    "import seaborn as sns\n",
    "import matplotlib.pyplot as plt\n",
    "\n",
    "# Create the countplot\n",
    "sns.countplot(x='Day of Week', hue='Reason', data=df)\n",
    "\n",
    "# Adjust the legend\n",
    "plt.legend(bbox_to_anchor=(1.25, 1))\n",
    "\n",
    "# Show the plot\n",
    "plt.show()"
   ]
  },
  {
   "cell_type": "code",
   "execution_count": null,
   "id": "afa533c0-b346-4f8e-a027-0fcb0f28a24b",
   "metadata": {},
   "outputs": [],
   "source": [
    "byMonth = df.groupby(by='Month').count()"
   ]
  },
  {
   "cell_type": "code",
   "execution_count": null,
   "id": "42ce8352-20bd-4f07-a172-b170fef79f17",
   "metadata": {},
   "outputs": [],
   "source": [
    "byMonth['e'].plot.line(y='e')\n",
    "plt.title('Calls per Month')\n",
    "plt.ylabel('Number of Calls')"
   ]
  },
  {
   "cell_type": "markdown",
   "id": "a5e7189d-d218-4f07-8ab7-881fdbc7edc6",
   "metadata": {},
   "source": [
    "Using Seaborn, let's visualize the number of calls per month to determine if there is a significant correlation between them."
   ]
  },
  {
   "cell_type": "code",
   "execution_count": null,
   "id": "b8c20982-86b4-4c62-8638-465971e2091b",
   "metadata": {},
   "outputs": [],
   "source": [
    "byMonth.reset_index(inplace=True)"
   ]
  },
  {
   "cell_type": "code",
   "execution_count": null,
   "id": "abc35c9f-e077-4b1b-b0f1-56f60237aadc",
   "metadata": {},
   "outputs": [],
   "source": [
    "sns.lmplot(x='Month',y='e',data=byMonth)\n",
    "plt.ylabel('Number of Calls')"
   ]
  },
  {
   "cell_type": "markdown",
   "id": "13677555-1b46-4070-97e9-5c271666ea29",
   "metadata": {},
   "source": [
    "It appears that there are indeed fewer emergency calls during the holiday seasons. \n",
    "\n",
    "Next, let's extract the date from the timestamp to analyze the behavior in greater detail."
   ]
  },
  {
   "cell_type": "code",
   "execution_count": null,
   "id": "e27858bb-5c7a-48ca-846e-451471b14a59",
   "metadata": {},
   "outputs": [],
   "source": [
    "df['Date']=df['timeStamp'].apply(lambda x: x.date())"
   ]
  },
  {
   "cell_type": "code",
   "execution_count": null,
   "id": "3221061f-65fc-4d4e-bd15-7b38fd8da0a9",
   "metadata": {},
   "outputs": [],
   "source": [
    "df.head(2)"
   ]
  },
  {
   "cell_type": "markdown",
   "id": "6ee51e89-0782-4b87-b1da-30c2a3eb3ff6",
   "metadata": {},
   "source": [
    "Grouping and plotting the data:"
   ]
  },
  {
   "cell_type": "code",
   "execution_count": null,
   "id": "a2a1461d-525d-4b2a-a8dd-ca055d4785ae",
   "metadata": {},
   "outputs": [],
   "source": [
    "import pandas as pd\n",
    "import matplotlib.pyplot as plt\n",
    "\n",
    "# Group by 'Date' and count occurrences of 'e'\n",
    "grouped_data = df.groupby('Date')['e'].count()\n",
    "\n",
    "# Plot the line chart\n",
    "grouped_data.plot.line()\n",
    "\n",
    "# Optionally remove the legend and tighten the layout\n",
    "plt.legend().remove()\n",
    "plt.tight_layout()\n",
    "\n",
    "# Show the plot\n",
    "plt.show()"
   ]
  },
  {
   "cell_type": "markdown",
   "id": "b6701d52-ed6b-4705-9231-ee770c73e414",
   "metadata": {},
   "source": [
    "We can also check the plot for each reason separately"
   ]
  },
  {
   "cell_type": "code",
   "execution_count": null,
   "id": "95c9f3e9-2cf6-4f25-97e9-4bf0fc4ead2c",
   "metadata": {},
   "outputs": [],
   "source": [
    "pd.DataFrame.groupby(df[df['Reason']=='Traffic'],'Date').count().plot.line(y='e')\n",
    "plt.title('Traffic')\n",
    "plt.legend().remove()\n",
    "plt.tight_layout()"
   ]
  },
  {
   "cell_type": "code",
   "execution_count": null,
   "id": "28b93c5f-5ad6-4163-a237-490325ac6950",
   "metadata": {},
   "outputs": [],
   "source": [
    "pd.DataFrame.groupby(df[df['Reason']=='Fire'],'Date').count().plot.line(y='e')\n",
    "plt.title('Fire')\n",
    "plt.legend().remove()\n",
    "plt.tight_layout()"
   ]
  },
  {
   "cell_type": "code",
   "execution_count": null,
   "id": "0129754f-fd85-4566-a84f-9b0c28aeffd8",
   "metadata": {},
   "outputs": [],
   "source": [
    "pd.DataFrame.groupby(df[df['Reason']=='EMS'],'Date').count().plot.line(y='e')\n",
    "plt.title('EMS')\n",
    "plt.legend().remove()\n",
    "plt.tight_layout()"
   ]
  },
  {
   "cell_type": "markdown",
   "id": "ea14a5d1-a48c-44ad-a218-0568c9f53604",
   "metadata": {},
   "source": [
    "Let's generate a heatmap to visualize the number of calls for each hour throughout a specific day of the week."
   ]
  },
  {
   "cell_type": "code",
   "execution_count": null,
   "id": "57ae9391-f065-4ae2-a81f-48706667fa3b",
   "metadata": {},
   "outputs": [],
   "source": [
    "day_hour = df.pivot_table(values='lat',index='Day of Week',columns='Hour',aggfunc='count')\n",
    "\n",
    "day_hour"
   ]
  },
  {
   "cell_type": "markdown",
   "id": "7d03809d-12a8-4fa6-832c-8a548cada05c",
   "metadata": {},
   "source": [
    "Now, let's generate a heatmap using this new DataFrame."
   ]
  },
  {
   "cell_type": "code",
   "execution_count": null,
   "id": "c8c8f37d-898d-4e7d-8c8d-b477912187b1",
   "metadata": {},
   "outputs": [],
   "source": [
    "sns.heatmap(day_hour)\n",
    "\n",
    "plt.tight_layout()"
   ]
  },
  {
   "cell_type": "markdown",
   "id": "2eb97d17-463c-477f-b6cd-0820aded4c08",
   "metadata": {},
   "source": [
    "It appears that the majority of calls occur towards the end of office hours on weekdays."
   ]
  },
  {
   "cell_type": "markdown",
   "id": "de63b7cf-b98f-4c66-9617-901e3f248791",
   "metadata": {},
   "source": [
    "And this concludes the exploratory analysis project."
   ]
  },
  {
   "cell_type": "code",
   "execution_count": null,
   "id": "98041cdd-89be-4da9-a601-3b57f534a271",
   "metadata": {},
   "outputs": [],
   "source": []
  }
 ],
 "metadata": {
  "kernelspec": {
   "display_name": "Python 3 (ipykernel)",
   "language": "python",
   "name": "python3"
  },
  "language_info": {
   "codemirror_mode": {
    "name": "ipython",
    "version": 3
   },
   "file_extension": ".py",
   "mimetype": "text/x-python",
   "name": "python",
   "nbconvert_exporter": "python",
   "pygments_lexer": "ipython3",
   "version": "3.13.0"
  }
 },
 "nbformat": 4,
 "nbformat_minor": 5
}
